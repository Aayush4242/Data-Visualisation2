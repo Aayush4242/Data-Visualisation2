{
 "cells": [
  {
   "cell_type": "markdown",
   "metadata": {},
   "source": [
    "lab3#16-jan-2020#Operators"
   ]
  },
  {
   "cell_type": "code",
   "execution_count": 7,
   "metadata": {},
   "outputs": [
    {
     "name": "stdout",
     "output_type": "stream",
     "text": [
      "4\n",
      "2\n",
      "0\n",
      "256\n"
     ]
    }
   ],
   "source": [
    "a=4\n",
    "b=6\n",
    "print(a&b)\n",
    "print(a^b)\n",
    "print(a>>b)\n",
    "print(a<<b)"
   ]
  },
  {
   "cell_type": "code",
   "execution_count": 15,
   "metadata": {},
   "outputs": [
    {
     "name": "stdout",
     "output_type": "stream",
     "text": [
      "8.0\n",
      "333.2\n",
      "converted to integer value 333\n",
      "512\n",
      "converted to float value 512.0\n"
     ]
    }
   ],
   "source": [
    "print(22//3+3/3)\n",
    "a=2+9*((3*12)+8/10)\n",
    "print(a)\n",
    "print('converted to integer value', int(a))\n",
    "b=2**3**2\n",
    "print(b)\n",
    "print(\"converted to float value\", float(b))"
   ]
  },
  {
   "cell_type": "code",
   "execution_count": 21,
   "metadata": {
    "scrolled": true
   },
   "outputs": [
    {
     "name": "stdout",
     "output_type": "stream",
     "text": [
      "skipping\n",
      "no skip as 1 is default :  klmnopqrst\n",
      "skip 1, as it counts from starting value :  kmoqs\n",
      "skip 2 :  knqt\n"
     ]
    }
   ],
   "source": [
    "A='abcdefghijklmnopqrst'\n",
    "#skipping\n",
    "print('no skip as 1 is default : ',A[10:20:1])\n",
    "print('skip 1, as it counts from starting value : ',A[10:20:2])\n",
    "print('skip 2 : ',A[10:20:3])\n",
    "#as a result, it'll skip 1 value if we give 2 AND 2values if we give 3."
   ]
  },
  {
   "cell_type": "code",
   "execution_count": 29,
   "metadata": {},
   "outputs": [
    {
     "name": "stdout",
     "output_type": "stream",
     "text": [
      "i\n",
      "love\n",
      "i love INDIA\n",
      "AIDNI evol i\n"
     ]
    }
   ],
   "source": [
    "#strings\n",
    "A='i love INDIA'\n",
    "print(A[:1])\n",
    "print(A[2:6])\n",
    "print(A[::1])\n",
    "#for reverse of string\n",
    "print(A[::-1])"
   ]
  },
  {
   "cell_type": "code",
   "execution_count": null,
   "metadata": {},
   "outputs": [],
   "source": [
    "#do movie task"
   ]
  }
 ],
 "metadata": {
  "kernelspec": {
   "display_name": "Python 3",
   "language": "python",
   "name": "python3"
  },
  "language_info": {
   "codemirror_mode": {
    "name": "ipython",
    "version": 3
   },
   "file_extension": ".py",
   "mimetype": "text/x-python",
   "name": "python",
   "nbconvert_exporter": "python",
   "pygments_lexer": "ipython3",
   "version": "3.6.5"
  }
 },
 "nbformat": 4,
 "nbformat_minor": 2
}
